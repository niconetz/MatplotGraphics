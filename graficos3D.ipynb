{
 "metadata": {
  "language_info": {
   "codemirror_mode": {
    "name": "ipython",
    "version": 3
   },
   "file_extension": ".py",
   "mimetype": "text/x-python",
   "name": "python",
   "nbconvert_exporter": "python",
   "pygments_lexer": "ipython3",
   "version": "3.8.3-final"
  },
  "orig_nbformat": 2,
  "kernelspec": {
   "name": "python_defaultSpec_1600796918872",
   "display_name": "Python 3.8.3 64-bit ('base': conda)"
  }
 },
 "nbformat": 4,
 "nbformat_minor": 2,
 "cells": [
  {
   "cell_type": "markdown",
   "metadata": {},
   "source": [
    "# Graficos en 3D\n",
    "Para esto, se utilizan las bibliotecas a continuacion, no es mas que un caso especial de los graficos 2d, donde se identifica el intervalo de definicion, luego se definen las funciones y por ultimo se relacionan los puntos."
   ]
  },
  {
   "cell_type": "code",
   "execution_count": 6,
   "metadata": {},
   "outputs": [],
   "source": [
    "from mpl_toolkits import mplot3d\n",
    "%matplotlib qt\n",
    "import numpy as np\n",
    "import matplotlib.pyplot as plt"
   ]
  },
  {
   "cell_type": "code",
   "execution_count": 7,
   "metadata": {},
   "outputs": [],
   "source": [
    "def u(x,y):\n",
    "    return x+y\n",
    "\n",
    "\n",
    "x = np.linspace(0, 10, 30)\n",
    "y = np.linspace(0, 10, 30)\n",
    "X, Y = np.meshgrid(x, y)\n",
    "Z = u(X, Y)"
   ]
  },
  {
   "cell_type": "code",
   "execution_count": 11,
   "metadata": {},
   "outputs": [
    {
     "output_type": "execute_result",
     "data": {
      "text/plain": "<mpl_toolkits.mplot3d.art3d.Poly3DCollection at 0x1ffbf7fbf70>"
     },
     "metadata": {},
     "execution_count": 11
    }
   ],
   "source": [
    "fig, ax =plt.subplots()\n",
    "ax = plt.axes(projection='3d')\n",
    "\n",
    "ax.set_title('Titulo del Grafico')\n",
    "ax.set_xlabel('x')\n",
    "ax.set_ylabel('y')\n",
    "ax.set_zlabel('z')\n",
    "\n",
    "ax.plot_surface(X, Y, Z, rstride=1, cstride=1,\n",
    " cmap='viridis', edgecolor='none')\n"
   ]
  },
  {
   "cell_type": "markdown",
   "metadata": {},
   "source": [
    "## Otras funciones\n",
    "Con el siguiente comando, se puede cambiar el angulo de vista"
   ]
  }
 ]
}